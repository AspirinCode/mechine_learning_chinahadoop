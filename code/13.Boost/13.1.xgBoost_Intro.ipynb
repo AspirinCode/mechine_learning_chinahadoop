{
 "cells": [
  {
   "cell_type": "code",
   "execution_count": 1,
   "metadata": {
    "collapsed": true
   },
   "outputs": [],
   "source": [
    "import xgboost as xgb\n",
    "import numpy as np\n",
    "from sklearn.tree import DecisionTreeClassifier"
   ]
  },
  {
   "cell_type": "markdown",
   "metadata": {},
   "source": [
    "1、xgBoost的基本使用  \n",
    "2、自定义损失函数的梯度和二阶导  \n",
    "3、binary:logistic/logitraw"
   ]
  },
  {
   "cell_type": "code",
   "execution_count": 7,
   "metadata": {
    "collapsed": true
   },
   "outputs": [],
   "source": [
    "def g_h(y_hat,y):\n",
    "    p = 1.0 / (1.0 + np.exp(-y_hat))\n",
    "    g = p - y.get_label()\n",
    "    h = p * (1.0 - p)\n",
    "    return g,h"
   ]
  },
  {
   "cell_type": "code",
   "execution_count": 8,
   "metadata": {
    "collapsed": true
   },
   "outputs": [],
   "source": [
    "def error_rate(y_hat,y):\n",
    "    return 'error', float(sum(y.get_label() != (y_hat > 0.5))) / len(y_hat)"
   ]
  },
  {
   "cell_type": "code",
   "execution_count": 9,
   "metadata": {
    "collapsed": false
   },
   "outputs": [
    {
     "name": "stdout",
     "output_type": "stream",
     "text": [
      "<xgboost.core.DMatrix object at 0x000002D83EF3FBE0>\n",
      "<class 'xgboost.core.DMatrix'>\n"
     ]
    }
   ],
   "source": [
    "# 读取数据\n",
    "data_train = xgb.DMatrix('agaricus_train.txt')\n",
    "data_test = xgb.DMatrix('agaricus_test.txt')\n",
    "print(data_train)\n",
    "print(type(data_train))"
   ]
  },
  {
   "cell_type": "code",
   "execution_count": 10,
   "metadata": {
    "collapsed": false
   },
   "outputs": [
    {
     "name": "stdout",
     "output_type": "stream",
     "text": [
      "[0]\teval-error:0.016139\ttrain-error:0.014433\teval-error:0.016139\ttrain-error:0.014433\n",
      "[1]\teval-error:0.016139\ttrain-error:0.014433\teval-error:0.016139\ttrain-error:0.014433\n",
      "[2]\teval-error:0.016139\ttrain-error:0.014433\teval-error:0.016139\ttrain-error:0.014433\n",
      "[3]\teval-error:0.016139\ttrain-error:0.014433\teval-error:0.016139\ttrain-error:0.014433\n",
      "[4]\teval-error:0.002483\ttrain-error:0.003071\teval-error:0.002483\ttrain-error:0.003071\n",
      "[5]\teval-error:0.002483\ttrain-error:0.003071\teval-error:0.002483\ttrain-error:0.003071\n",
      "[6]\teval-error:0.002483\ttrain-error:0.003071\teval-error:0.002483\ttrain-error:0.003071\n"
     ]
    }
   ],
   "source": [
    "# 设置参数\n",
    "param = {'max_depth': 3, 'eta': 1, 'silent': 1, 'objective': 'binary:logistic'} # logitraw\n",
    "# param = {'max_depth': 3, 'eta': 0.3, 'silent': 1, 'objective': 'reg:logistic'}\n",
    "watchlist = [(data_test, 'eval'), (data_train, 'train')]\n",
    "n_round = 7\n",
    "# bst = xgb.train(param, data_train, num_boost_round=n_round, evals=watchlist)\n",
    "bst = xgb.train(param, data_train, num_boost_round=n_round, evals=watchlist, obj=g_h, feval=error_rate)"
   ]
  },
  {
   "cell_type": "code",
   "execution_count": 11,
   "metadata": {
    "collapsed": false
   },
   "outputs": [
    {
     "name": "stdout",
     "output_type": "stream",
     "text": [
      "[  6.09937888e-06   9.84727502e-01   6.09937888e-06 ...,   9.99932647e-01\n",
      "   4.45600620e-07   9.99932647e-01]\n",
      "[ 0.  1.  0. ...,  1.  0.  1.]\n",
      "样本总数：\t 1611\n",
      "错误数目：\t   4\n",
      "错误率：\t0.24829%\n"
     ]
    }
   ],
   "source": [
    "# 计算错误率\n",
    "y_hat = bst.predict(data_test)\n",
    "y = data_test.get_label()\n",
    "print (y_hat)\n",
    "print (y)\n",
    "error = sum(y != (y_hat > 0.5))\n",
    "error_rate = float(error) / len(y_hat)\n",
    "print ('样本总数：\\t', len(y_hat))\n",
    "print ('错误数目：\\t%4d' % error)\n",
    "print ('错误率：\\t%.5f%%' % (100*error_rate))"
   ]
  },
  {
   "cell_type": "code",
   "execution_count": null,
   "metadata": {
    "collapsed": true
   },
   "outputs": [],
   "source": []
  }
 ],
 "metadata": {
  "anaconda-cloud": {},
  "kernelspec": {
   "display_name": "Python [conda env:Anaconda]",
   "language": "python",
   "name": "conda-env-Anaconda-py"
  },
  "language_info": {
   "codemirror_mode": {
    "name": "ipython",
    "version": 3
   },
   "file_extension": ".py",
   "mimetype": "text/x-python",
   "name": "python",
   "nbconvert_exporter": "python",
   "pygments_lexer": "ipython3",
   "version": "3.5.2"
  }
 },
 "nbformat": 4,
 "nbformat_minor": 2
}
