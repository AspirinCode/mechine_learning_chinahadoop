{
 "cells": [
  {
   "cell_type": "code",
   "execution_count": 1,
   "metadata": {
    "collapsed": true
   },
   "outputs": [],
   "source": [
    "import numpy as np\n",
    "import pandas as pd\n",
    "import xgboost as xgb\n",
    "from sklearn.model_selection import train_test_split   # cross_validation\n",
    "from sklearn.linear_model import LogisticRegressionCV\n",
    "from sklearn.ensemble import RandomForestClassifier\n",
    "from sklearn.metrics import accuracy_score"
   ]
  },
  {
   "cell_type": "code",
   "execution_count": 5,
   "metadata": {
    "collapsed": false
   },
   "outputs": [],
   "source": [
    "path = 'iris.data'  # 数据文件路径\n",
    "# data = np.loadtxt(path, dtype=float, delimiter=',', converters={4: iris_type})\n",
    "data = pd.read_csv(path, header=None)"
   ]
  },
  {
   "cell_type": "code",
   "execution_count": 23,
   "metadata": {
    "collapsed": false
   },
   "outputs": [],
   "source": [
    "x, y = data[np.array(range(4))], data[4]\n",
    "y = pd.Categorical(y).codes\n",
    "x_train, x_test, y_train, y_test = train_test_split(x, y, random_state=1, test_size=50)"
   ]
  },
  {
   "cell_type": "code",
   "execution_count": 25,
   "metadata": {
    "collapsed": false
   },
   "outputs": [],
   "source": [
    "data_train = xgb.DMatrix(x_train, label=y_train)\n",
    "data_test = xgb.DMatrix(x_test, label=y_test)"
   ]
  },
  {
   "cell_type": "code",
   "execution_count": 26,
   "metadata": {
    "collapsed": false
   },
   "outputs": [
    {
     "name": "stdout",
     "output_type": "stream",
     "text": [
      "[0]\teval-merror:0.02\ttrain-merror:0.02\n",
      "[1]\teval-merror:0.02\ttrain-merror:0.02\n",
      "[2]\teval-merror:0.02\ttrain-merror:0.02\n",
      "[3]\teval-merror:0.02\ttrain-merror:0.02\n",
      "[4]\teval-merror:0.02\ttrain-merror:0.02\n",
      "[5]\teval-merror:0.02\ttrain-merror:0.02\n",
      "正确率:\t 0.98\n",
      "END.....\n",
      "\n",
      "LogisticRegression 训练集正确率： 0.96\n",
      "LogisticRegression 测试集正确率： 0.9\n",
      "RandomForest 训练集正确率： 1.0\n",
      "RandomForest 测试集正确率： 0.96\n"
     ]
    }
   ],
   "source": [
    "watch_list = [(data_test, 'eval'), (data_train, 'train')]\n",
    "param = {'max_depth': 4, 'eta': 0.3, 'silent': 1, 'objective': 'multi:softmax', 'num_class': 3}\n",
    "\n",
    "bst = xgb.train(param, data_train, num_boost_round=6, evals=watch_list)\n",
    "y_hat = bst.predict(data_test)\n",
    "result = y_test == y_hat\n",
    "print ('正确率:\\t', float(np.sum(result)) / len(y_hat))\n",
    "print ('END.....\\n')\n",
    "\n",
    "models = [('LogisticRegression', LogisticRegressionCV(Cs=10, cv=3)),\n",
    "          ('RandomForest', RandomForestClassifier(n_estimators=30, criterion='gini'))]\n",
    "for name, model in models:\n",
    "    model.fit(x_train, y_train)\n",
    "    print (name, '训练集正确率：', accuracy_score(y_train, model.predict(x_train)))\n",
    "    print (name, '测试集正确率：', accuracy_score(y_test, model.predict(x_test)))"
   ]
  },
  {
   "cell_type": "code",
   "execution_count": null,
   "metadata": {
    "collapsed": true
   },
   "outputs": [],
   "source": []
  }
 ],
 "metadata": {
  "anaconda-cloud": {},
  "kernelspec": {
   "display_name": "Python [conda env:Anaconda]",
   "language": "python",
   "name": "conda-env-Anaconda-py"
  },
  "language_info": {
   "codemirror_mode": {
    "name": "ipython",
    "version": 3
   },
   "file_extension": ".py",
   "mimetype": "text/x-python",
   "name": "python",
   "nbconvert_exporter": "python",
   "pygments_lexer": "ipython3",
   "version": "3.5.2"
  }
 },
 "nbformat": 4,
 "nbformat_minor": 2
}
