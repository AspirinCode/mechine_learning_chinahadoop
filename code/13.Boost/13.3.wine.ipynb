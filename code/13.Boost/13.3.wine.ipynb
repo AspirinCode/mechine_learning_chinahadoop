{
 "cells": [
  {
   "cell_type": "code",
   "execution_count": 1,
   "metadata": {
    "collapsed": true
   },
   "outputs": [],
   "source": [
    "import xgboost as xgb\n",
    "import numpy as np\n",
    "import pandas as pd\n",
    "from sklearn.model_selection import train_test_split   # cross_validation\n",
    "from sklearn.linear_model import RidgeClassifierCV\n",
    "from sklearn.ensemble import RandomForestClassifier, GradientBoostingClassifier\n",
    "from sklearn.preprocessing import MinMaxScaler, StandardScaler\n",
    "from sklearn.metrics import accuracy_score"
   ]
  },
  {
   "cell_type": "code",
   "execution_count": 2,
   "metadata": {
    "collapsed": true
   },
   "outputs": [],
   "source": [
    "data = pd.read_csv('wine.data', header=None)\n",
    "x, y = data.iloc[:, 1:], data[0]\n",
    "x = MinMaxScaler().fit_transform(x)\n",
    "x_train, x_test, y_train, y_test = train_test_split(x, y, random_state=1, test_size=0.7)"
   ]
  },
  {
   "cell_type": "code",
   "execution_count": 5,
   "metadata": {
    "collapsed": false
   },
   "outputs": [
    {
     "name": "stdout",
     "output_type": "stream",
     "text": [
      "参数alpha=0.46\n",
      "Logistic回归训练集准确率： 1.0\n",
      "Logistic回归测试集准确率： 0.968\n"
     ]
    }
   ],
   "source": [
    "lr = RidgeClassifierCV(alphas=np.logspace(-3, 3, 10), cv=3)\n",
    "lr.fit(x_train, y_train.ravel())\n",
    "print (u'参数alpha=%.2f' % lr.alpha_)\n",
    "y_train_pred = lr.predict(x_train)\n",
    "y_test_pred = lr.predict(x_test)\n",
    "print (u'Logistic回归训练集准确率：', accuracy_score(y_train, y_train_pred))\n",
    "print (u'Logistic回归测试集准确率：', accuracy_score(y_test, y_test_pred))"
   ]
  },
  {
   "cell_type": "code",
   "execution_count": 6,
   "metadata": {
    "collapsed": false
   },
   "outputs": [
    {
     "name": "stdout",
     "output_type": "stream",
     "text": [
      "OOB Score=0.98113\n",
      "随机森林训练集准确率： 1.0\n",
      "随机森林测试集准确率： 0.976\n"
     ]
    }
   ],
   "source": [
    "rf = RandomForestClassifier(n_estimators=100, max_depth=8, min_samples_split=5, oob_score=True)\n",
    "rf.fit(x_train, y_train.ravel())\n",
    "print (u'OOB Score=%.5f' % rf.oob_score_)\n",
    "y_train_pred = rf.predict(x_train)\n",
    "y_test_pred = rf.predict(x_test)\n",
    "print (u'随机森林训练集准确率：', accuracy_score(y_train, y_train_pred))\n",
    "print (u'随机森林测试集准确率：', accuracy_score(y_test, y_test_pred))"
   ]
  },
  {
   "cell_type": "code",
   "execution_count": 7,
   "metadata": {
    "collapsed": false
   },
   "outputs": [
    {
     "name": "stdout",
     "output_type": "stream",
     "text": [
      "GBDT训练集准确率： 1.0\n",
      "GBDT测试集准确率： 0.984\n"
     ]
    }
   ],
   "source": [
    "gb = GradientBoostingClassifier(n_estimators=100, learning_rate=0.1, max_depth=2)\n",
    "gb.fit(x_train, y_train.ravel())\n",
    "y_train_pred = gb.predict(x_train)\n",
    "y_test_pred = gb.predict(x_test)\n",
    "print (u'GBDT训练集准确率：', accuracy_score(y_train, y_train_pred))\n",
    "print (u'GBDT测试集准确率：', accuracy_score(y_test, y_test_pred))"
   ]
  },
  {
   "cell_type": "code",
   "execution_count": 8,
   "metadata": {
    "collapsed": false
   },
   "outputs": [
    {
     "name": "stdout",
     "output_type": "stream",
     "text": [
      "[0]\teval-merror:0.056\ttrain-merror:0.037736\n",
      "[1]\teval-merror:0.08\ttrain-merror:0.018868\n",
      "[2]\teval-merror:0.032\ttrain-merror:0\n",
      "[3]\teval-merror:0.032\ttrain-merror:0\n",
      "[4]\teval-merror:0.04\ttrain-merror:0\n",
      "XGBoost训练集准确率： 1.0\n",
      "XGBoost测试集准确率： 0.96\n"
     ]
    }
   ],
   "source": [
    "y_train[y_train == 3] = 0\n",
    "y_test[y_test == 3] = 0\n",
    "data_train = xgb.DMatrix(x_train, label=y_train)\n",
    "data_test = xgb.DMatrix(x_test, label=y_test)\n",
    "watch_list = [(data_test, 'eval'), (data_train, 'train')]\n",
    "params = {'max_depth': 1, 'eta': 0.9, 'silent': 1, 'objective': 'multi:softmax', 'num_class': 3}\n",
    "bst = xgb.train(params, data_train, num_boost_round=5, evals=watch_list)\n",
    "y_train_pred = bst.predict(data_train)\n",
    "y_test_pred = bst.predict(data_test)\n",
    "print (u'XGBoost训练集准确率：', accuracy_score(y_train, y_train_pred))\n",
    "print (u'XGBoost测试集准确率：', accuracy_score(y_test, y_test_pred))"
   ]
  },
  {
   "cell_type": "code",
   "execution_count": null,
   "metadata": {
    "collapsed": true
   },
   "outputs": [],
   "source": []
  }
 ],
 "metadata": {
  "anaconda-cloud": {},
  "kernelspec": {
   "display_name": "Python [conda env:anaconda3]",
   "language": "python",
   "name": "conda-env-anaconda3-py"
  },
  "language_info": {
   "codemirror_mode": {
    "name": "ipython",
    "version": 3
   },
   "file_extension": ".py",
   "mimetype": "text/x-python",
   "name": "python",
   "nbconvert_exporter": "python",
   "pygments_lexer": "ipython3",
   "version": "3.5.2"
  }
 },
 "nbformat": 4,
 "nbformat_minor": 2
}
